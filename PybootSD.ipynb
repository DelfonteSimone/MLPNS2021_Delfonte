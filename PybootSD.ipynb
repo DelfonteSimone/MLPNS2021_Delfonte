{
  "nbformat": 4,
  "nbformat_minor": 0,
  "metadata": {
    "colab": {
      "name": "PybootSD.ipynb",
      "provenance": [],
      "authorship_tag": "ABX9TyPEFibqUF19lNquWFb435b8",
      "include_colab_link": true
    },
    "kernelspec": {
      "name": "python3",
      "display_name": "Python 3"
    }
  },
  "cells": [
    {
      "cell_type": "markdown",
      "metadata": {
        "id": "view-in-github",
        "colab_type": "text"
      },
      "source": [
        "<a href=\"https://colab.research.google.com/github/DelfonteSimone/gittest_SD/blob/main/PybootSD.ipynb\" target=\"_parent\"><img src=\"https://colab.research.google.com/assets/colab-badge.svg\" alt=\"Open In Colab\"/></a>"
      ]
    },
    {
      "cell_type": "code",
      "metadata": {
        "colab": {
          "base_uri": "https://localhost:8080/"
        },
        "id": "ggdHbBiLdDUd",
        "outputId": "c3f11ace-d074-4b8f-b17f-96678e4a6fb0"
      },
      "source": [
        "print(\"hello\")"
      ],
      "execution_count": null,
      "outputs": [
        {
          "output_type": "stream",
          "text": [
            "hello\n"
          ],
          "name": "stdout"
        }
      ]
    },
    {
      "cell_type": "code",
      "metadata": {
        "id": "DxML08R6efoI"
      },
      "source": [
        "from __future__ import print_function, division"
      ],
      "execution_count": null,
      "outputs": []
    },
    {
      "cell_type": "code",
      "metadata": {
        "id": "kjywzzJtesz5"
      },
      "source": [
        "stringVariable= \"hello!\""
      ],
      "execution_count": 12,
      "outputs": []
    },
    {
      "cell_type": "code",
      "metadata": {
        "colab": {
          "base_uri": "https://localhost:8080/"
        },
        "id": "w1jKGiaWgEB-",
        "outputId": "688b9688-39fe-46f4-e6d4-ee82544ad5d7"
      },
      "source": [
        "print(\"stringVariable\")"
      ],
      "execution_count": null,
      "outputs": [
        {
          "output_type": "stream",
          "text": [
            "stringVariable\n"
          ],
          "name": "stdout"
        }
      ]
    },
    {
      "cell_type": "code",
      "metadata": {
        "id": "XL15wlcagJjk",
        "colab": {
          "base_uri": "https://localhost:8080/"
        },
        "outputId": "fbdef6c6-ea95-4c69-c6fa-9eafd66ceb7a"
      },
      "source": [
        "\\print(stringVariable)"
      ],
      "execution_count": null,
      "outputs": [
        {
          "output_type": "stream",
          "text": [
            "hello!\n"
          ],
          "name": "stdout"
        }
      ]
    },
    {
      "cell_type": "markdown",
      "metadata": {
        "id": "dO9fE7euXF0T"
      },
      "source": [
        "# first\r\n",
        "## second\r\n",
        "### third \r\n",
        "hgohljpo"
      ]
    },
    {
      "cell_type": "code",
      "metadata": {
        "id": "lukRxoUuXf3U"
      },
      "source": [
        "floatvariable= 3."
      ],
      "execution_count": 2,
      "outputs": []
    },
    {
      "cell_type": "code",
      "metadata": {
        "id": "Wv7XrrgAY2hj",
        "outputId": "cb788631-390b-44eb-8996-fa5af145d9e0",
        "colab": {
          "base_uri": "https://localhost:8080/"
        }
      },
      "source": [
        "for a in range(10):\r\n",
        "  print()\r\n",
        "  print(a)\r\n",
        "  "
      ],
      "execution_count": 3,
      "outputs": [
        {
          "output_type": "stream",
          "text": [
            "\n",
            "0\n",
            "\n",
            "1\n",
            "\n",
            "2\n",
            "\n",
            "3\n",
            "\n",
            "4\n",
            "\n",
            "5\n",
            "\n",
            "6\n",
            "\n",
            "7\n",
            "\n",
            "8\n",
            "\n",
            "9\n"
          ],
          "name": "stdout"
        }
      ]
    },
    {
      "cell_type": "code",
      "metadata": {
        "id": "0Td7Ix7aZEZp",
        "outputId": "ba3dbca9-f0d2-4c7c-cc38-41389ab040f4",
        "colab": {
          "base_uri": "https://localhost:8080/"
        }
      },
      "source": [
        "for a in range(10):\r\n",
        "  print(a)\r\n",
        "  "
      ],
      "execution_count": 4,
      "outputs": [
        {
          "output_type": "stream",
          "text": [
            "0\n",
            "1\n",
            "2\n",
            "3\n",
            "4\n",
            "5\n",
            "6\n",
            "7\n",
            "8\n",
            "9\n"
          ],
          "name": "stdout"
        }
      ]
    },
    {
      "cell_type": "code",
      "metadata": {
        "id": "3RFjAqt9ZzV7",
        "outputId": "ee91f834-2974-42d8-b760-28b738bf79a7",
        "colab": {
          "base_uri": "https://localhost:8080/"
        }
      },
      "source": [
        "a=0\r\n",
        "while a is not 10:\r\n",
        "  a=a+1\r\n",
        "  print(a)"
      ],
      "execution_count": 5,
      "outputs": [
        {
          "output_type": "stream",
          "text": [
            "1\n",
            "2\n",
            "3\n",
            "4\n",
            "5\n",
            "6\n",
            "7\n",
            "8\n",
            "9\n",
            "10\n"
          ],
          "name": "stdout"
        }
      ]
    },
    {
      "cell_type": "code",
      "metadata": {
        "id": "Y3hE373nZ90s",
        "outputId": "75d787a6-fef2-4d71-967d-abe349a46823",
        "colab": {
          "base_uri": "https://localhost:8080/"
        }
      },
      "source": [
        "MyList = [0, 1, 2, 3,\"hello\", 3.3]\r\n",
        "MyList"
      ],
      "execution_count": 6,
      "outputs": [
        {
          "output_type": "execute_result",
          "data": {
            "text/plain": [
              "[0, 1, 2, 3, 'hello', 3.3]"
            ]
          },
          "metadata": {
            "tags": []
          },
          "execution_count": 6
        }
      ]
    },
    {
      "cell_type": "code",
      "metadata": {
        "id": "mmElPCZnayDC",
        "outputId": "7fd64de3-708f-4d29-8fcc-0ffb3f80a2e9",
        "colab": {
          "base_uri": "https://localhost:8080/"
        }
      },
      "source": [
        "myList=[0, 1, 2, 3, \"hello\", 3.3, [0, 2, 3.3]]\r\n",
        "myList\r\n"
      ],
      "execution_count": 7,
      "outputs": [
        {
          "output_type": "execute_result",
          "data": {
            "text/plain": [
              "[0, 1, 2, 3, 'hello', 3.3, [0, 2, 3.3]]"
            ]
          },
          "metadata": {
            "tags": []
          },
          "execution_count": 7
        }
      ]
    },
    {
      "cell_type": "code",
      "metadata": {
        "id": "SYeW4iX_a_CZ",
        "outputId": "4072eaac-ce33-431e-8bcc-d164f82dd666",
        "colab": {
          "base_uri": "https://localhost:8080/"
        }
      },
      "source": [
        "myList[-1]"
      ],
      "execution_count": 8,
      "outputs": [
        {
          "output_type": "execute_result",
          "data": {
            "text/plain": [
              "[0, 2, 3.3]"
            ]
          },
          "metadata": {
            "tags": []
          },
          "execution_count": 8
        }
      ]
    },
    {
      "cell_type": "code",
      "metadata": {
        "id": "KvizXK78bFRA",
        "outputId": "6ab5776f-056f-421b-bfc9-6a75710e6917",
        "colab": {
          "base_uri": "https://localhost:8080/",
          "height": 35
        }
      },
      "source": [
        "stringVariable"
      ],
      "execution_count": 13,
      "outputs": [
        {
          "output_type": "execute_result",
          "data": {
            "application/vnd.google.colaboratory.intrinsic+json": {
              "type": "string"
            },
            "text/plain": [
              "'hello!'"
            ]
          },
          "metadata": {
            "tags": []
          },
          "execution_count": 13
        }
      ]
    },
    {
      "cell_type": "code",
      "metadata": {
        "id": "U5oMEFJXbFTj",
        "outputId": "68118fb7-22b0-45a7-9914-9babc42d3c31",
        "colab": {
          "base_uri": "https://localhost:8080/",
          "height": 35
        }
      },
      "source": [
        "stringVariable+stringVariable"
      ],
      "execution_count": 14,
      "outputs": [
        {
          "output_type": "execute_result",
          "data": {
            "application/vnd.google.colaboratory.intrinsic+json": {
              "type": "string"
            },
            "text/plain": [
              "'hello!hello!'"
            ]
          },
          "metadata": {
            "tags": []
          },
          "execution_count": 14
        }
      ]
    },
    {
      "cell_type": "code",
      "metadata": {
        "id": "5W5qjvwicBfI",
        "outputId": "cec572e5-cfad-4184-e512-062be7e46d34",
        "colab": {
          "base_uri": "https://localhost:8080/"
        }
      },
      "source": [
        "tmplist = []\r\n",
        "a=0\r\n",
        "while a**2 < 300:\r\n",
        "  a=a+1\r\n",
        "  tmplist.append(a**2)\r\n",
        "tmplist"
      ],
      "execution_count": 20,
      "outputs": [
        {
          "output_type": "execute_result",
          "data": {
            "text/plain": [
              "[1, 4, 9, 16, 25, 36, 49, 64, 81, 100, 121, 144, 169, 196, 225, 256, 289, 324]"
            ]
          },
          "metadata": {
            "tags": []
          },
          "execution_count": 20
        }
      ]
    },
    {
      "cell_type": "code",
      "metadata": {
        "id": "DvTZd0R9dmRC",
        "outputId": "e17c46ae-4bde-4fc8-893c-30ac4693a4fd",
        "colab": {
          "base_uri": "https://localhost:8080/"
        }
      },
      "source": [
        "dictVariable = {\"keyInt\": 0,\r\n",
        "                \"keyFloat\":0.3,\r\n",
        "                \"keyString\": \"i'm a string\",\r\n",
        "                \"keydict\" : {} }\r\n",
        "dictVariable"
      ],
      "execution_count": 24,
      "outputs": [
        {
          "output_type": "execute_result",
          "data": {
            "text/plain": [
              "{'keyFloat': 0.3, 'keyInt': 0, 'keyString': \"i'm a string\", 'keydict': {}}"
            ]
          },
          "metadata": {
            "tags": []
          },
          "execution_count": 24
        }
      ]
    },
    {
      "cell_type": "code",
      "metadata": {
        "id": "vmpAyg2XdJI7",
        "outputId": "d2e4feb7-9e49-45f6-c2b9-2bcbc3fdf17c",
        "colab": {
          "base_uri": "https://localhost:8080/",
          "height": 35
        }
      },
      "source": [
        "stringVariable.capitalize()"
      ],
      "execution_count": 25,
      "outputs": [
        {
          "output_type": "execute_result",
          "data": {
            "application/vnd.google.colaboratory.intrinsic+json": {
              "type": "string"
            },
            "text/plain": [
              "'Hello!'"
            ]
          },
          "metadata": {
            "tags": []
          },
          "execution_count": 25
        }
      ]
    },
    {
      "cell_type": "code",
      "metadata": {
        "id": "IX2uTKQ0dJZU",
        "outputId": "660494dd-8104-47fc-8bcb-b325c74db5b5",
        "colab": {
          "base_uri": "https://localhost:8080/",
          "height": 35
        }
      },
      "source": [
        "stringVariable"
      ],
      "execution_count": 26,
      "outputs": [
        {
          "output_type": "execute_result",
          "data": {
            "application/vnd.google.colaboratory.intrinsic+json": {
              "type": "string"
            },
            "text/plain": [
              "'hello!'"
            ]
          },
          "metadata": {
            "tags": []
          },
          "execution_count": 26
        }
      ]
    },
    {
      "cell_type": "markdown",
      "metadata": {
        "id": "sYph6QXXgV7Y"
      },
      "source": [
        "nota che sopra la variabile stringa è stata modificata solo nella cella dove applico il modulo"
      ]
    },
    {
      "cell_type": "markdown",
      "metadata": {
        "id": "2bEKkShViCTp"
      },
      "source": [
        "prima si è parlato di variabili native, ora si parla di quelle importate"
      ]
    },
    {
      "cell_type": "code",
      "metadata": {
        "id": "gMkWCL71iLjV"
      },
      "source": [
        "import numpy as np"
      ],
      "execution_count": 29,
      "outputs": []
    },
    {
      "cell_type": "code",
      "metadata": {
        "id": "pFS3e7DBdJiq",
        "outputId": "546ca118-084d-4d57-9e18-86cf16641226",
        "colab": {
          "base_uri": "https://localhost:8080/"
        }
      },
      "source": [
        "np.abs(-3)\r\n"
      ],
      "execution_count": 30,
      "outputs": [
        {
          "output_type": "execute_result",
          "data": {
            "text/plain": [
              "3"
            ]
          },
          "metadata": {
            "tags": []
          },
          "execution_count": 30
        }
      ]
    },
    {
      "cell_type": "code",
      "metadata": {
        "id": "shbXIiaCjKzu"
      },
      "source": [
        "from matplotlib import pylab as plt"
      ],
      "execution_count": 35,
      "outputs": []
    },
    {
      "cell_type": "code",
      "metadata": {
        "id": "x1TOFpEjjXmt",
        "outputId": "bd0b6ced-2bf4-4ea3-e9f9-4bbcef8edc2e",
        "colab": {
          "base_uri": "https://localhost:8080/",
          "height": 283
        }
      },
      "source": [
        "plt.plot(range(10), np.zeros(10))"
      ],
      "execution_count": 36,
      "outputs": [
        {
          "output_type": "execute_result",
          "data": {
            "text/plain": [
              "[<matplotlib.lines.Line2D at 0x7fa0d19248d0>]"
            ]
          },
          "metadata": {
            "tags": []
          },
          "execution_count": 36
        },
        {
          "output_type": "display_data",
          "data": {
            "image/png": "[encoded data removed]",
            "text/plain": [
              "<Figure size 432x288 with 1 Axes>"
            ]
          },
          "metadata": {
            "tags": [],
            "needs_background": "light"
          }
        }
      ]
    },
    {
      "cell_type": "code",
      "metadata": {
        "id": "W57aNqdijXpN"
      },
      "source": [
        "def myFunction(a):\r\n",
        "  print(\"the variable you passed is\" , a)\r\n",
        "  return 1"
      ],
      "execution_count": 37,
      "outputs": []
    },
    {
      "cell_type": "code",
      "metadata": {
        "id": "_mLJijowqNLQ",
        "outputId": "fcb0af66-7171-46f6-a1e5-ba92e125ca1d",
        "colab": {
          "base_uri": "https://localhost:8080/"
        }
      },
      "source": [
        "myFunction(\"ciao\")"
      ],
      "execution_count": 39,
      "outputs": [
        {
          "output_type": "stream",
          "text": [
            "the variable you passed is ciao\n"
          ],
          "name": "stdout"
        },
        {
          "output_type": "execute_result",
          "data": {
            "text/plain": [
              "1"
            ]
          },
          "metadata": {
            "tags": []
          },
          "execution_count": 39
        }
      ]
    },
    {
      "cell_type": "code",
      "metadata": {
        "id": "yeK-ZAVCrNvS"
      },
      "source": [
        "aa= \"parola\""
      ],
      "execution_count": 41,
      "outputs": []
    },
    {
      "cell_type": "code",
      "metadata": {
        "id": "6oO4POctrTNO",
        "outputId": "366cdde0-c07c-4f58-c9ac-c4aa05758d7a",
        "colab": {
          "base_uri": "https://localhost:8080/",
          "height": 35
        }
      },
      "source": [
        "aa[::-1]"
      ],
      "execution_count": 44,
      "outputs": [
        {
          "output_type": "execute_result",
          "data": {
            "application/vnd.google.colaboratory.intrinsic+json": {
              "type": "string"
            },
            "text/plain": [
              "'alorap'"
            ]
          },
          "metadata": {
            "tags": []
          },
          "execution_count": 44
        }
      ]
    },
    {
      "cell_type": "code",
      "metadata": {
        "id": "jdkh_NtlukVP",
        "outputId": "e81dbe0c-ee99-45de-dfec-a7c078469b79",
        "colab": {
          "base_uri": "https://localhost:8080/"
        }
      },
      "source": [
        "drive.mount(\"/content/drive\")\r\n"
      ],
      "execution_count": 56,
      "outputs": [
        {
          "output_type": "stream",
          "text": [
            "Mounted at /content/drive\n"
          ],
          "name": "stdout"
        }
      ]
    },
    {
      "cell_type": "code",
      "metadata": {
        "id": "SOX5wjElwtGi",
        "outputId": "c87884e0-b8fe-4b62-93b9-645c61f7b1a6",
        "colab": {
          "base_uri": "https://localhost:8080/"
        }
      },
      "source": [
        "ls"
      ],
      "execution_count": 57,
      "outputs": [
        {
          "output_type": "stream",
          "text": [
            "\u001b[0m\u001b[01;34mdrive\u001b[0m/  \u001b[01;34msample_data\u001b[0m/\n"
          ],
          "name": "stdout"
        }
      ]
    },
    {
      "cell_type": "code",
      "metadata": {
        "id": "--Lvzy1Bw0VF",
        "outputId": "402cb38e-215f-40de-9b9b-b4a635ba66be",
        "colab": {
          "base_uri": "https://localhost:8080/"
        }
      },
      "source": [
        "cd drive"
      ],
      "execution_count": 58,
      "outputs": [
        {
          "output_type": "stream",
          "text": [
            "/content/drive\n"
          ],
          "name": "stdout"
        }
      ]
    },
    {
      "cell_type": "code",
      "metadata": {
        "id": "6fbYfAnFw0YA",
        "outputId": "cba3f763-f0ee-402e-d801-2e6550268496",
        "colab": {
          "base_uri": "https://localhost:8080/"
        }
      },
      "source": [
        "ls\r\n"
      ],
      "execution_count": 59,
      "outputs": [
        {
          "output_type": "stream",
          "text": [
            "\u001b[0m\u001b[01;34mMyDrive\u001b[0m/\n"
          ],
          "name": "stdout"
        }
      ]
    },
    {
      "cell_type": "code",
      "metadata": {
        "id": "cn_eSI0Zw0aY",
        "outputId": "7e8c1233-b775-4449-8b2a-0ff860412fb4",
        "colab": {
          "base_uri": "https://localhost:8080/"
        }
      },
      "source": [
        "cd MyDrive"
      ],
      "execution_count": 60,
      "outputs": [
        {
          "output_type": "stream",
          "text": [
            "/content/drive/MyDrive\n"
          ],
          "name": "stdout"
        }
      ]
    },
    {
      "cell_type": "code",
      "metadata": {
        "id": "hs6N5mw9w9nV",
        "outputId": "2dd40a5e-a758-450c-fdb5-0b2dc3dcf912",
        "colab": {
          "base_uri": "https://localhost:8080/"
        }
      },
      "source": [
        "ls"
      ],
      "execution_count": 61,
      "outputs": [
        {
          "output_type": "stream",
          "text": [
            "\u001b[0m\u001b[01;34m'Colab Notebooks'\u001b[0m/    MCUCXR_0254_imm.png          \u001b[01;34m'Università Magistrale'\u001b[0m/\n",
            " \u001b[01;34mDocumenti\u001b[0m/           MCUCXR_0254.png              \u001b[01;34m'Università Triennale'\u001b[0m/\n",
            " \u001b[01;34mDriveSyncFiles\u001b[0m/      \u001b[01;34mScuola\u001b[0m/                       \u001b[01;36mvalidation\u001b[0m@\n",
            " \u001b[01;34mLezioni\u001b[0m/             Semantic_Segmentation.ipynb   weights_200epochs.h5\n",
            "\u001b[01;34m'Libri università'\u001b[0m/   \u001b[01;36mtraining\u001b[0m@                     Y_val.npy\n"
          ],
          "name": "stdout"
        }
      ]
    },
    {
      "cell_type": "code",
      "metadata": {
        "id": "7hKLvDBdxA64",
        "outputId": "01ddd999-ba46-47a8-8992-db3996bf7b2a",
        "colab": {
          "base_uri": "https://localhost:8080/"
        }
      },
      "source": [
        "cd Documenti"
      ],
      "execution_count": 63,
      "outputs": [
        {
          "output_type": "stream",
          "text": [
            "/content/drive/MyDrive/Documenti\n",
            "[Errno 2] No such file or directory: 'Documenti'\n",
            "/content/drive/MyDrive/Documenti\n"
          ],
          "name": "stdout"
        }
      ]
    },
    {
      "cell_type": "code",
      "metadata": {
        "id": "bq6rxNCBxA9l",
        "outputId": "44b9cd78-ce40-4ef8-f9c3-0603e02dc76a",
        "colab": {
          "base_uri": "https://localhost:8080/"
        }
      },
      "source": [
        "ls\r\n"
      ],
      "execution_count": 64,
      "outputs": [
        {
          "output_type": "stream",
          "text": [
            "curriculum.docx  DSC_3519.JPG  IMG-20190311-WA0004.jpeg  ispalindrome.py\n"
          ],
          "name": "stdout"
        }
      ]
    },
    {
      "cell_type": "code",
      "metadata": {
        "id": "XlX-TylvxgRR"
      },
      "source": [
        "import ispalindrome as ipl"
      ],
      "execution_count": 75,
      "outputs": []
    },
    {
      "cell_type": "code",
      "metadata": {
        "id": "uTAq2wVmx4Gk",
        "outputId": "23a8103a-3d63-4a83-94ac-309847309b47",
        "colab": {
          "base_uri": "https://localhost:8080/"
        }
      },
      "source": [
        "ipl.lookForPal(\"anna\")"
      ],
      "execution_count": 76,
      "outputs": [
        {
          "output_type": "stream",
          "text": [
            "Yes its a palindrome an\n"
          ],
          "name": "stdout"
        },
        {
          "output_type": "execute_result",
          "data": {
            "text/plain": [
              "1"
            ]
          },
          "metadata": {
            "tags": []
          },
          "execution_count": 76
        }
      ]
    },
    {
      "cell_type": "code",
      "metadata": {
        "id": "Lhiz2xrO0kui",
        "outputId": "434b9c3a-8a20-4965-f122-5d5b2e8020e2",
        "colab": {
          "base_uri": "https://localhost:8080/"
        }
      },
      "source": [
        "!curl -O https://raw.githubusercontent.com/fedhere/PyBOOT/master/busBusses.npy"
      ],
      "execution_count": 77,
      "outputs": [
        {
          "output_type": "stream",
          "text": [
            "  % Total    % Received % Xferd  Average Speed   Time    Time     Time  Current\n",
            "                                 Dload  Upload   Total   Spent    Left  Speed\n",
            "\r  0     0    0     0    0     0      0      0 --:--:-- --:--:-- --:--:--     0\r100   240  100   240    0     0   3116      0 --:--:-- --:--:-- --:--:--  3116\n"
          ],
          "name": "stdout"
        }
      ]
    },
    {
      "cell_type": "code",
      "metadata": {
        "id": "vq7JGbCh0kxU",
        "outputId": "1b2c70be-be56-4682-e0b2-744eea7f53d8",
        "colab": {
          "base_uri": "https://localhost:8080/"
        }
      },
      "source": [
        "ls"
      ],
      "execution_count": 78,
      "outputs": [
        {
          "output_type": "stream",
          "text": [
            "busBusses.npy    DSC_3519.JPG              ispalindrome.py\n",
            "curriculum.docx  IMG-20190311-WA0004.jpeg  \u001b[0m\u001b[01;34m__pycache__\u001b[0m/\n"
          ],
          "name": "stdout"
        }
      ]
    },
    {
      "cell_type": "code",
      "metadata": {
        "id": "MuVErcVV0k1T",
        "outputId": "08217039-be00-4b71-a901-84ee5f2fa78f",
        "colab": {
          "base_uri": "https://localhost:8080/"
        }
      },
      "source": [
        "!curl -O https://raw.githubusercontent.com/fedhere/PyBOOT/master/busTimeTable.npy"
      ],
      "execution_count": 79,
      "outputs": [
        {
          "output_type": "stream",
          "text": [
            "  % Total    % Received % Xferd  Average Speed   Time    Time     Time  Current\n",
            "                                 Dload  Upload   Total   Spent    Left  Speed\n",
            "\r  0     0    0     0    0     0      0      0 --:--:-- --:--:-- --:--:--     0\r100  1680  100  1680    0     0  25074      0 --:--:-- --:--:-- --:--:-- 25074\n"
          ],
          "name": "stdout"
        }
      ]
    },
    {
      "cell_type": "code",
      "metadata": {
        "id": "3RfIBpNs1dGm"
      },
      "source": [
        "tt=np.load(\"busTimeTable.npy\")"
      ],
      "execution_count": 80,
      "outputs": []
    },
    {
      "cell_type": "code",
      "metadata": {
        "id": "EKf8TFGo1dJZ"
      },
      "source": [
        "busses=np.load(\"busBusses.npy\")"
      ],
      "execution_count": 82,
      "outputs": []
    },
    {
      "cell_type": "code",
      "metadata": {
        "id": "Ms-mhZ6H1uqI"
      },
      "source": [
        ""
      ],
      "execution_count": null,
      "outputs": []
    },
    {
      "cell_type": "code",
      "metadata": {
        "id": "6vo4fx2X1u6Y",
        "outputId": "0c5c2386-0ce3-46ec-86d1-0c6db5949147",
        "colab": {
          "base_uri": "https://localhost:8080/"
        }
      },
      "source": [
        "busses.shape"
      ],
      "execution_count": 83,
      "outputs": [
        {
          "output_type": "execute_result",
          "data": {
            "text/plain": [
              "(20,)"
            ]
          },
          "metadata": {
            "tags": []
          },
          "execution_count": 83
        }
      ]
    },
    {
      "cell_type": "code",
      "metadata": {
        "id": "I1_UOdca101s",
        "outputId": "10dd2ae1-7ae4-40bc-a938-5dbab24d3a23",
        "colab": {
          "base_uri": "https://localhost:8080/"
        }
      },
      "source": [
        "tt.shape"
      ],
      "execution_count": 84,
      "outputs": [
        {
          "output_type": "execute_result",
          "data": {
            "text/plain": [
              "(20, 10)"
            ]
          },
          "metadata": {
            "tags": []
          },
          "execution_count": 84
        }
      ]
    }
  ]
}