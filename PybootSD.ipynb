{
  "nbformat": 4,
  "nbformat_minor": 0,
  "metadata": {
    "colab": {
      "name": "PybootSD.ipynb",
      "provenance": [],
      "authorship_tag": "ABX9TyNa4lMF31+a3+0Tyg1AdspO",
      "include_colab_link": true
    },
    "kernelspec": {
      "name": "python3",
      "display_name": "Python 3"
    }
  },
  "cells": [
    {
      "cell_type": "markdown",
      "metadata": {
        "id": "view-in-github",
        "colab_type": "text"
      },
      "source": [
        "<a href=\"https://colab.research.google.com/github/DelfonteSimone/gittest_SD/blob/main/PybootSD.ipynb\" target=\"_parent\"><img src=\"https://colab.research.google.com/assets/colab-badge.svg\" alt=\"Open In Colab\"/></a>"
      ]
    },
    {
      "cell_type": "code",
      "metadata": {
        "colab": {
          "base_uri": "https://localhost:8080/"
        },
        "id": "ggdHbBiLdDUd",
        "outputId": "c3f11ace-d074-4b8f-b17f-96678e4a6fb0"
      },
      "source": [
        "print(\"hello\")"
      ],
      "execution_count": null,
      "outputs": [
        {
          "output_type": "stream",
          "text": [
            "hello\n"
          ],
          "name": "stdout"
        }
      ]
    },
    {
      "cell_type": "code",
      "metadata": {
        "id": "DxML08R6efoI"
      },
      "source": [
        "from __future__ import print_function, division"
      ],
      "execution_count": null,
      "outputs": []
    },
    {
      "cell_type": "code",
      "metadata": {
        "id": "kjywzzJtesz5"
      },
      "source": [
        "stringVariable= \"hello!\""
      ],
      "execution_count": null,
      "outputs": []
    },
    {
      "cell_type": "code",
      "metadata": {
        "colab": {
          "base_uri": "https://localhost:8080/"
        },
        "id": "w1jKGiaWgEB-",
        "outputId": "688b9688-39fe-46f4-e6d4-ee82544ad5d7"
      },
      "source": [
        "print(\"stringVariable\")"
      ],
      "execution_count": null,
      "outputs": [
        {
          "output_type": "stream",
          "text": [
            "stringVariable\n"
          ],
          "name": "stdout"
        }
      ]
    },
    {
      "cell_type": "code",
      "metadata": {
        "id": "XL15wlcagJjk",
        "colab": {
          "base_uri": "https://localhost:8080/"
        },
        "outputId": "fbdef6c6-ea95-4c69-c6fa-9eafd66ceb7a"
      },
      "source": [
        "print(stringVariable)"
      ],
      "execution_count": null,
      "outputs": [
        {
          "output_type": "stream",
          "text": [
            "hello!\n"
          ],
          "name": "stdout"
        }
      ]
    }
  ]
}